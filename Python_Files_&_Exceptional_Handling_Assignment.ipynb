{
  "nbformat": 4,
  "nbformat_minor": 0,
  "metadata": {
    "colab": {
      "provenance": []
    },
    "kernelspec": {
      "name": "python3",
      "display_name": "Python 3"
    },
    "language_info": {
      "name": "python"
    }
  },
  "cells": [
    {
      "cell_type": "markdown",
      "source": [
        "#   ---------------Python Files & Exceptional Handling---------------\n",
        "\n",
        "\n",
        "1. What is the difference between interpreted and compiled languages?\n",
        "\n",
        " - Compiled languages (like C++) are translated directly into machine code before execution, resulting in faster performance. Interpreted languages (like Python) are executed line by line by an interpreter, making them more flexible but generally slower.\n",
        "\n",
        "\n",
        "2. What is exception handling in Python?\n",
        "\n",
        " - Exception handling is a mechanism to deal with errors or unexpected events that occur during program execution. It allows the program to continue running even if an error occurs.\n",
        "\n",
        "\n",
        "3. What is the purpose of the finally block in exception handling?\n",
        "\n",
        " - The finally block contains code that will always be executed, regardless of whether an exception occurred or not. It's typically used for cleanup operations like closing files or releasing resources.\n",
        "\n",
        "\n",
        "4. What is logging in Python?\n",
        "\n",
        " - Logging is a way to record events that occur during the execution of a program. It helps in debugging, monitoring, and understanding the program's behavior.\n",
        "\n",
        "\n",
        "5. What is the significance of the _del_ method in Python?\n",
        "\n",
        " - The _del_ method (destructor) is called when an object is about to be garbage collected. It's used to release resources held by the object. However, its usage is discouraged due to potential issues with garbage collection cycles.\n",
        "\n",
        "\n",
        "6. What is the difference between import and from...import in Python?\n",
        "\n",
        " - import module imports the entire module, and you access its functions/classes using module.function(). from module import function imports specific items directly, so you can use them without the module prefix.\n",
        "\n",
        "\n",
        "7. How can you handle multiple exceptions in Python?\n",
        "\n",
        " - You can handle multiple exceptions using multiple except blocks, specifying different exception types for each block:\n",
        "try:\n",
        "    # code that might raise exceptions\n",
        "except ValueError:\n",
        "    # handle ValueError\n",
        "except TypeError:\n",
        "    # handle TypeError\n",
        "except Exception as e:\n",
        "    # handle other exceptions\n",
        "\n",
        "\n",
        "8. What is the purpose of the with statement when handling files in Python?\n",
        "\n",
        " - The with statement ensures that resources (like files) are properly managed. It automatically closes the file when the block is exited, even if exceptions occur.\n",
        "\n",
        "\n",
        "9. What is the difference between multithreading and multiprocessing?\n",
        "\n",
        " - Multithreading runs multiple threads within a single process, sharing the same memory space. Multiprocessing runs multiple processes, each with its own memory space. Multiprocessing is better for CPU-bound tasks, while multithreading is better for I/O-bound tasks.\n",
        "\n",
        "\n",
        "10. What are the advantages of using logging in a program?\n",
        "\n",
        " - Logging helps in debugging, provides a history of program execution, allows filtering of messages based on severity, and aids in monitoring and analyzing program behavior.\n",
        "\n",
        "\n",
        "11. What is memory management in Python?\n",
        "\n",
        " - Memory management in Python involves allocating and deallocating memory for objects. Python uses automatic memory management through garbage collection.\n",
        "\n",
        "\n",
        "12. What are the basic steps involved in exception handling in Python?\n",
        "\n",
        " - The basic steps are:\n",
        " * Enclose code that might raise an exception in a try block.\n",
        " * Use except blocks to handle specific exceptions.\n",
        " * Optionally, use a finally block for cleanup.\n",
        "\n",
        "\n",
        "13. Why is memory management important in Python?\n",
        "\n",
        " - Efficient memory management prevents memory leaks and ensures that the program uses resources effectively, leading to better performance and stability.\n",
        "\n",
        "\n",
        "14. What is the role of try and except in exception handling?\n",
        "\n",
        " - The try block contains the code that might raise an exception. The except block specifies how to handle the exception if it occurs.\n",
        "\n",
        "\n",
        "15. How does Python's garbage collection system work?\n",
        "\n",
        " - Python uses automatic garbage collection, primarily reference counting. When an object's reference count drops to zero, it is deallocated. It also uses a cyclic garbage collector to handle objects involved in reference cycles.\n",
        "\n",
        "\n",
        "16. What is the purpose of the else block in exception handling?\n",
        "\n",
        " - The else block is executed if no exceptions are raised in the try block. It's used for code that should only run if the try block succeeds.\n",
        "\n",
        "\n",
        "17. What are the common logging levels in Python?\n",
        "\n",
        " - The common logging levels are:\n",
        " * DEBUG\n",
        " * INFO\n",
        " * WARNING\n",
        " * ERROR\n",
        " * CRITICAL\n",
        "\n",
        "\n",
        "18. What is the difference between os.fork() and multiprocessing in Python?\n",
        "\n",
        " - os.fork() creates a child process that is a copy of the parent process, sharing the same memory space initially (on Unix-like systems). multiprocessing creates independent processes with separate memory spaces. multiprocessing is generally preferred for cross-platform compatibility.\n",
        "\n",
        "\n",
        "19. What is the importance of closing a file in Python?\n",
        "\n",
        " - Closing a file releases the resources held by the file, such as file handles and buffers. It ensures that data is written to the file and prevents data corruption or resource leaks.\n",
        "\n",
        "\n",
        "20. What is the difference between file.read() and file.readline() in Python?\n",
        "\n",
        " - file.read() reads the entire file content as a single string. file.readline() reads a single line from the file, including the newline character.\n",
        "\n",
        "\n",
        "21. What is the logging module in Python used for?\n",
        "\n",
        " - The logging module provides a flexible framework for emitting log messages from Python programs, allowing developers to control the level and destination of log messages.\n",
        "\n",
        "\n",
        "22. What is the os module in Python used for in file handling?\n",
        "\n",
        " - The os module provides functions for interacting with the operating system, including file and directory manipulation (e.g., creating, deleting, renaming files, changing directories).\n",
        "\n",
        "\n",
        "23. What are the challenges associated with memory management in Python?\n",
        "\n",
        " - Challenges include dealing with circular references, optimizing memory usage for large data structures, and understanding the nuances of the garbage collection process.\n",
        "\n",
        "\n",
        "24. How do you raise an exception manually in Python?\n",
        "\n",
        " - You can raise an exception using the raise keyword, followed by the exception type and an optional message:\n",
        "raise ValueError(\"Invalid input\")\n",
        "\n",
        "\n",
        "25. Why is it important to use multithreading in certain applications?\n",
        "\n",
        " - Multithreading can improve performance in I/O-bound applications by allowing the program to perform other tasks while waiting for I/O operations to complete. It can also enhance responsiveness in GUI applications."
      ],
      "metadata": {
        "id": "FXmlZGbEvD-B"
      }
    },
    {
      "cell_type": "code",
      "source": [
        "#1. How can you open a file for writing in Python and write a string to it?\n",
        "\n",
        "\n",
        "with open(\"my_file.txt\", \"w\") as f:\n",
        "    print((f.write(\"Hello, world!\")))"
      ],
      "metadata": {
        "colab": {
          "base_uri": "https://localhost:8080/"
        },
        "id": "3oUlx0utvMOP",
        "outputId": "24ccc818-802d-4473-a092-8817472d8be4"
      },
      "execution_count": null,
      "outputs": [
        {
          "output_type": "stream",
          "name": "stdout",
          "text": [
            "13\n"
          ]
        }
      ]
    },
    {
      "cell_type": "code",
      "source": [
        "#2. Write a Python program to read the contents of a file and print each line.\n",
        "\n",
        "with open(\"my_file.txt\", \"r\") as f:\n",
        "    for line in f:\n",
        "        print(line, end=\"\")"
      ],
      "metadata": {
        "colab": {
          "base_uri": "https://localhost:8080/"
        },
        "id": "dcqHEad6vSdS",
        "outputId": "6ad59fc0-21c7-4d72-cdc3-3dcf507746ec"
      },
      "execution_count": null,
      "outputs": [
        {
          "output_type": "stream",
          "name": "stdout",
          "text": [
            "Hello, world!"
          ]
        }
      ]
    },
    {
      "cell_type": "code",
      "source": [
        "#3.How would you handle a case where the file doesn't exist while trying to open it for reading?\n",
        "\n",
        "try:\n",
        "    with open(\"nonexistent_file.txt\", \"r\") as f:\n",
        "        content = f.read()\n",
        "except FileNotFoundError:\n",
        "    print(\"File not found.\")"
      ],
      "metadata": {
        "colab": {
          "base_uri": "https://localhost:8080/"
        },
        "id": "2goqWsJFvUk4",
        "outputId": "52b2f539-507e-4f89-a44c-ead0e0303bc6"
      },
      "execution_count": null,
      "outputs": [
        {
          "output_type": "stream",
          "name": "stdout",
          "text": [
            "File not found.\n"
          ]
        }
      ]
    },
    {
      "cell_type": "code",
      "source": [
        "#4. Write a Python script that reads from one file and writes its content to another file.\n",
        "\n",
        "with open(\"my_file.txt\", \"r\") as source, open(\"destination.txt\", \"w\") as dest:\n",
        "    dest.write(source.read())\n",
        "    with open(\"my_file.txt\", \"r\") as source, open(\"destination.txt\", \"w\") as dest:\n",
        "        print(dest.write(source.read()))\n",
        "\n",
        "    with open(\"destination.txt\", \"r\") as dest:\n",
        "        print(dest.read())\n"
      ],
      "metadata": {
        "colab": {
          "base_uri": "https://localhost:8080/"
        },
        "id": "Ldia8eS3vXuD",
        "outputId": "d79208c6-62bb-45a3-a148-41c6f8bdfd6f"
      },
      "execution_count": null,
      "outputs": [
        {
          "output_type": "stream",
          "name": "stdout",
          "text": [
            "13\n",
            "Hello, world!\n"
          ]
        }
      ]
    },
    {
      "cell_type": "code",
      "source": [
        "#5. How would you catch and handle division by zero error in Python?\n",
        "\n",
        "try:\n",
        "    result = 10 / 0\n",
        "except ZeroDivisionError:\n",
        "    print(\"Cannot divide by zero.\")"
      ],
      "metadata": {
        "colab": {
          "base_uri": "https://localhost:8080/"
        },
        "id": "jOKOKOfAvZuT",
        "outputId": "e846bd74-8604-4543-ee24-02836603aacb"
      },
      "execution_count": null,
      "outputs": [
        {
          "output_type": "stream",
          "name": "stdout",
          "text": [
            "Cannot divide by zero.\n"
          ]
        }
      ]
    },
    {
      "cell_type": "code",
      "source": [
        "#6. Write a Python program that logs an error message to a log file when a division by zero exception occurs.\n",
        "\n",
        "import logging\n",
        "\n",
        "logging.basicConfig(filename='error.log', level=logging.ERROR)\n",
        "\n",
        "try:\n",
        "    result = 10 / 0\n",
        "except ZeroDivisionError:\n",
        "    logging.error(\"Division by zero occurred.\")"
      ],
      "metadata": {
        "colab": {
          "base_uri": "https://localhost:8080/"
        },
        "id": "E2PgYGqmvcrT",
        "outputId": "063f18d2-7baa-48eb-f192-67f5830c9322"
      },
      "execution_count": null,
      "outputs": [
        {
          "output_type": "stream",
          "name": "stderr",
          "text": [
            "ERROR:root:Division by zero occurred.\n"
          ]
        }
      ]
    },
    {
      "cell_type": "code",
      "source": [
        "#7.How do you log information at different levels (INFO, ERROR, WARNING) in Python using the logging module?\n",
        "\n",
        "import logging\n",
        "\n",
        "logging.basicConfig(level=logging.INFO)\n",
        "\n",
        "logging.info(\"This is an info message.\")\n",
        "logging.warning(\"This is a warning message.\")\n",
        "logging.error(\"This is an error message.\")"
      ],
      "metadata": {
        "colab": {
          "base_uri": "https://localhost:8080/"
        },
        "id": "KQh7OOhnvcnx",
        "outputId": "2388c559-2c44-45df-c560-8421e3975b5a"
      },
      "execution_count": null,
      "outputs": [
        {
          "output_type": "stream",
          "name": "stderr",
          "text": [
            "WARNING:root:This is a warning message.\n",
            "ERROR:root:This is an error message.\n"
          ]
        }
      ]
    },
    {
      "cell_type": "code",
      "source": [
        "#8. Write a program to handle a file opening error using exception handling.\n",
        "\n",
        "try:\n",
        "    with open(\"unknown.txt\", \"r\") as f:\n",
        "        content = f.read()\n",
        "except FileNotFoundError:\n",
        "    print(\"File could not be opened.\")"
      ],
      "metadata": {
        "colab": {
          "base_uri": "https://localhost:8080/"
        },
        "id": "icF8jxdmvcle",
        "outputId": "1650fe34-e69a-4542-e13b-d816c8b3030c"
      },
      "execution_count": null,
      "outputs": [
        {
          "output_type": "stream",
          "name": "stdout",
          "text": [
            "File could not be opened.\n"
          ]
        }
      ]
    },
    {
      "cell_type": "code",
      "source": [
        "#9. How can you read a file line by line and store its content in a list in Python?\n",
        "\n",
        "lines = []\n",
        "with open(\"my_file.txt\", \"r\") as f:\n",
        "  with open(\"my_file.txt\", \"r\") as f:\n",
        "    lines = []\n",
        "    for line in f:\n",
        "        lines.append(line.strip())\n",
        "        print(lines)\n",
        "        print(line)\n"
      ],
      "metadata": {
        "colab": {
          "base_uri": "https://localhost:8080/"
        },
        "id": "DV4beH4fvci-",
        "outputId": "20d03972-fc8c-496b-95fd-dc644b95b83a"
      },
      "execution_count": null,
      "outputs": [
        {
          "output_type": "stream",
          "name": "stdout",
          "text": [
            "['Hello, world!']\n",
            "Hello, world!\n"
          ]
        }
      ]
    },
    {
      "cell_type": "code",
      "source": [
        "#10. How can you append data to an existing file in Python?\n",
        "\n",
        "with open(\"my_file.txt\", \"a\") as f:\n",
        "    f.write(\"New data to append.\")\n",
        "with open(\"my_file.txt\", \"r\") as f:\n",
        "    content=f.read()\n",
        "    print(content)"
      ],
      "metadata": {
        "colab": {
          "base_uri": "https://localhost:8080/"
        },
        "id": "MH2d9pD7vcTv",
        "outputId": "9fb55313-78f0-4f64-b5e0-c9de34a65136"
      },
      "execution_count": null,
      "outputs": [
        {
          "output_type": "stream",
          "name": "stdout",
          "text": [
            "Hello, world!New data to append.\n"
          ]
        }
      ]
    },
    {
      "cell_type": "code",
      "source": [
        "#11. Write a Python program that uses a try-except block to handle an error when attempting to access a dictionary key that doesn't exist.\n",
        "\n",
        "my_dict = {\"a\": 1, \"b\": 2}\n",
        "try:\n",
        "    value = my_dict[\"c\"]\n",
        "except KeyError:\n",
        "    print(\"Key not found.\")"
      ],
      "metadata": {
        "colab": {
          "base_uri": "https://localhost:8080/"
        },
        "id": "Q4tAQN6yvmaR",
        "outputId": "d2b955e7-1b12-4692-a0d1-e5a64f2dd1ee"
      },
      "execution_count": null,
      "outputs": [
        {
          "output_type": "stream",
          "name": "stdout",
          "text": [
            "Key not found.\n"
          ]
        }
      ]
    },
    {
      "cell_type": "code",
      "source": [
        "#12. Write a program that demonstrates using multiple except blocks to handle different types of exceptions.\n",
        "\n",
        "try:\n",
        "    value = int(\"abc\")\n",
        "    result = 10 / 0\n",
        "except ValueError:\n",
        "    print(\"Invalid value.\")\n",
        "except ZeroDivisionError:\n",
        "    print(\"Cannot divide by zero.\")"
      ],
      "metadata": {
        "colab": {
          "base_uri": "https://localhost:8080/"
        },
        "id": "cTDWD5TcvmW3",
        "outputId": "c1aab778-c335-4aa9-e749-d9f15fce3db3"
      },
      "execution_count": null,
      "outputs": [
        {
          "output_type": "stream",
          "name": "stdout",
          "text": [
            "Invalid value.\n"
          ]
        }
      ]
    },
    {
      "cell_type": "code",
      "source": [
        "#13.How would you check if a file exists before attempting to read it in Python?\n",
        "\n",
        "import os\n",
        "\n",
        "if os.path.exists(\"my_file.txt\"):\n",
        "    with open(\"my_file.txt\", \"r\") as f:\n",
        "        content = f.read()\n",
        "        print(\"File is exist\")\n",
        "else:\n",
        "    print(\"File does not exist.\")"
      ],
      "metadata": {
        "colab": {
          "base_uri": "https://localhost:8080/"
        },
        "id": "GQ1Zxt8WvmUe",
        "outputId": "1112b861-970e-40f5-e325-3f11014d9ac1"
      },
      "execution_count": null,
      "outputs": [
        {
          "output_type": "stream",
          "name": "stdout",
          "text": [
            "File is exist\n"
          ]
        }
      ]
    },
    {
      "cell_type": "code",
      "source": [
        "#14.Write a program that uses the logging module to log both informational and error messages.\n",
        "\n",
        "import logging\n",
        "\n",
        "logging.basicConfig(level=logging.INFO)\n",
        "\n",
        "logging.info(\"Program started.\")\n",
        "try:\n",
        "    result = 10 / 0\n",
        "except ZeroDivisionError:\n",
        "    logging.error(\"Division by zero occurred.\")"
      ],
      "metadata": {
        "colab": {
          "base_uri": "https://localhost:8080/"
        },
        "id": "zHHmz77CvmR6",
        "outputId": "8ee9be51-cc2b-473f-8b28-56eac6e02ed9"
      },
      "execution_count": null,
      "outputs": [
        {
          "output_type": "stream",
          "name": "stderr",
          "text": [
            "ERROR:root:Division by zero occurred.\n"
          ]
        }
      ]
    },
    {
      "cell_type": "code",
      "source": [
        "#15.Write a Python program that prints the content of a file and handles the case when the file is empty.\n",
        "\n",
        "try:\n",
        "    with open(\"my_file.txt\", \"r\") as f:\n",
        "        content = f.read()\n",
        "        if not content:\n",
        "            print(\"File is empty.\")\n",
        "        else:\n",
        "            print(content)\n",
        "except FileNotFoundError:\n",
        "    print(\"File not found.\")"
      ],
      "metadata": {
        "colab": {
          "base_uri": "https://localhost:8080/"
        },
        "id": "ycUj27e3vmPK",
        "outputId": "99c3d82a-edb5-4e15-ed5a-7250d790f755"
      },
      "execution_count": null,
      "outputs": [
        {
          "output_type": "stream",
          "name": "stdout",
          "text": [
            "Hello, world!New data to append.\n"
          ]
        }
      ]
    },
    {
      "cell_type": "code",
      "source": [
        "#16.Demonstrate how to use memory profiling to check the memory usage of a small program.\n",
        "\n",
        "from memory_profiler import profile\n",
        "\n",
        "@profile\n",
        "def my_function():\n",
        "    my_list = [i for i in range(1000000)]\n",
        "    return sum(my_list)\n",
        "\n",
        "my_function()"
      ],
      "metadata": {
        "colab": {
          "base_uri": "https://localhost:8080/",
          "height": 383
        },
        "id": "iHH0k-EWvmMp",
        "outputId": "bfe6341e-5298-4ed3-a9a0-e5150a7afb19"
      },
      "execution_count": null,
      "outputs": [
        {
          "output_type": "error",
          "ename": "ModuleNotFoundError",
          "evalue": "No module named 'memory_profiler'",
          "traceback": [
            "\u001b[0;31m---------------------------------------------------------------------------\u001b[0m",
            "\u001b[0;31mModuleNotFoundError\u001b[0m                       Traceback (most recent call last)",
            "\u001b[0;32m<ipython-input-17-3be23986b5af>\u001b[0m in \u001b[0;36m<cell line: 0>\u001b[0;34m()\u001b[0m\n\u001b[1;32m      1\u001b[0m \u001b[0;31m#16.Demonstrate how to use memory profiling to check the memory usage of a small program.\u001b[0m\u001b[0;34m\u001b[0m\u001b[0;34m\u001b[0m\u001b[0m\n\u001b[1;32m      2\u001b[0m \u001b[0;34m\u001b[0m\u001b[0m\n\u001b[0;32m----> 3\u001b[0;31m \u001b[0;32mfrom\u001b[0m \u001b[0mmemory_profiler\u001b[0m \u001b[0;32mimport\u001b[0m \u001b[0mprofile\u001b[0m\u001b[0;34m\u001b[0m\u001b[0;34m\u001b[0m\u001b[0m\n\u001b[0m\u001b[1;32m      4\u001b[0m \u001b[0;34m\u001b[0m\u001b[0m\n\u001b[1;32m      5\u001b[0m \u001b[0;34m@\u001b[0m\u001b[0mprofile\u001b[0m\u001b[0;34m\u001b[0m\u001b[0;34m\u001b[0m\u001b[0m\n",
            "\u001b[0;31mModuleNotFoundError\u001b[0m: No module named 'memory_profiler'",
            "",
            "\u001b[0;31m---------------------------------------------------------------------------\u001b[0;32m\nNOTE: If your import is failing due to a missing package, you can\nmanually install dependencies using either !pip or !apt.\n\nTo view examples of installing some common dependencies, click the\n\"Open Examples\" button below.\n\u001b[0;31m---------------------------------------------------------------------------\u001b[0m\n"
          ],
          "errorDetails": {
            "actions": [
              {
                "action": "open_url",
                "actionText": "Open Examples",
                "url": "/notebooks/snippets/importing_libraries.ipynb"
              }
            ]
          }
        }
      ]
    },
    {
      "cell_type": "code",
      "source": [
        "#17.Write a Python program to create and write a list of numbers to a file, one number per line.\n",
        "\n",
        "numbers = [1, 2, 3, 4, 5]\n",
        "with open(\"numbers.txt\", \"w\") as f:\n",
        "    for num in numbers:\n",
        "        f.write(str(num) + \"\\n\")\n",
        "with open(\"numbers.txt\", \"r\") as f:\n",
        "   print(f.read())"
      ],
      "metadata": {
        "colab": {
          "base_uri": "https://localhost:8080/"
        },
        "id": "A4ClflVSvmKD",
        "outputId": "af091402-0f83-4862-a46f-f5f20e688d1b"
      },
      "execution_count": null,
      "outputs": [
        {
          "output_type": "stream",
          "name": "stdout",
          "text": [
            "1\n",
            "2\n",
            "3\n",
            "4\n",
            "5\n",
            "\n"
          ]
        }
      ]
    },
    {
      "cell_type": "code",
      "source": [
        "#18.How would you implement a basic logging setup that logs to a file with rotation after 1MB?\n",
        "\n",
        "import logging\n",
        "from logging.handlers import RotatingFileHandler\n",
        "\n",
        "logging.basicConfig(level=logging.INFO)\n",
        "\n",
        "handler = RotatingFileHandler('app.log', maxBytes=1024*1024, backupCount=5)\n",
        "logging.getLogger('').addHandler(handler)\n",
        "\n",
        "logging.info(\"This is a log message.\")\n",
        "print(logging.info)"
      ],
      "metadata": {
        "colab": {
          "base_uri": "https://localhost:8080/"
        },
        "id": "yLLL6yswvyqq",
        "outputId": "74324bd1-5b9a-4e88-9668-e96f6dc0364a"
      },
      "execution_count": null,
      "outputs": [
        {
          "output_type": "stream",
          "name": "stdout",
          "text": [
            "<function info at 0x7d3b8d6bc860>\n"
          ]
        }
      ]
    },
    {
      "cell_type": "code",
      "source": [
        "#19.Write a program that handles both IndexError and KeyError using a try-except block.\n",
        "\n",
        "my_list = [1, 2, 3]\n",
        "my_dict = {\"a\": 1, \"b\": 2}\n",
        "try:\n",
        "    value1 = my_list[5]\n",
        "    value2 = my_dict[\"c\"]\n",
        "except IndexError:\n",
        "    print(\"Index out of range.\")\n",
        "except KeyError:\n",
        "    print(\"Key not found.\")"
      ],
      "metadata": {
        "colab": {
          "base_uri": "https://localhost:8080/"
        },
        "id": "mL5GVwfavyho",
        "outputId": "1506ed32-ab9c-4789-c100-e4b8ac1b7891"
      },
      "execution_count": null,
      "outputs": [
        {
          "output_type": "stream",
          "name": "stdout",
          "text": [
            "Index out of range.\n"
          ]
        }
      ]
    },
    {
      "cell_type": "code",
      "source": [
        "#20.How would you open a file and read its contents using a context manager in Python?\n",
        "\n",
        "with open(\"my_file.txt\", \"r\") as f:\n",
        "    content = f.read()\n",
        "    print(content)"
      ],
      "metadata": {
        "colab": {
          "base_uri": "https://localhost:8080/"
        },
        "id": "t00FPEz3vyeN",
        "outputId": "3ca1cfb9-ab68-4b20-982c-18e05e630481"
      },
      "execution_count": null,
      "outputs": [
        {
          "output_type": "stream",
          "name": "stdout",
          "text": [
            "Hello, world!New data to append.\n"
          ]
        }
      ]
    },
    {
      "cell_type": "code",
      "source": [
        "#21.Write a Python program that reads a file and prints the number of occurrences of a specific word.\n",
        "\n",
        "word = \"example\"\n",
        "count = 0\n",
        "with open(\"my_file.txt\", \"r\") as f:\n",
        "    for line in f:\n",
        "        count += line.lower().split().count(word.lower())\n",
        "print(f\"The word '{word}' appears {count} times.\")"
      ],
      "metadata": {
        "colab": {
          "base_uri": "https://localhost:8080/"
        },
        "id": "_-M4C0pfvyZ8",
        "outputId": "82d95f48-5284-4254-9a0b-d22f88954ceb"
      },
      "execution_count": null,
      "outputs": [
        {
          "output_type": "stream",
          "name": "stdout",
          "text": [
            "The word 'example' appears 0 times.\n"
          ]
        }
      ]
    },
    {
      "cell_type": "code",
      "source": [
        "#22.How can you check if a file is empty before attempting to read its contents?\n",
        "\n",
        "import os\n",
        "\n",
        "if os.stat(\"my_file.txt\").st_size == 0:\n",
        "    print(\"File is empty.\")\n",
        "else:\n",
        "    with open(\"my_file.txt\", \"r\") as f:\n",
        "        content = f.read()\n",
        "        print(content)"
      ],
      "metadata": {
        "colab": {
          "base_uri": "https://localhost:8080/"
        },
        "id": "hjUdVFN-wMsQ",
        "outputId": "88b13b03-62bb-437d-b61a-7db337effa56"
      },
      "execution_count": null,
      "outputs": [
        {
          "output_type": "stream",
          "name": "stdout",
          "text": [
            "Hello, world!New data to append.\n"
          ]
        }
      ]
    },
    {
      "cell_type": "code",
      "source": [
        "#23.Write a Python program that writes to a log file when an error occurs during file handling.\n",
        "\n",
        "import logging\n",
        "\n",
        "logging.basicConfig(filename='file_errors.log', level=logging.ERROR)\n",
        "\n",
        "try:\n",
        "    with open(\"nonexistent_file.txt\", \"r\") as f:\n",
        "        content = f.read()\n",
        "except FileNotFoundError:\n",
        "    logging.error(\"File not found.\")"
      ],
      "metadata": {
        "colab": {
          "base_uri": "https://localhost:8080/"
        },
        "id": "pAfQbQYmwMo1",
        "outputId": "22e199c6-a543-4ebb-a74a-931d8d90444d"
      },
      "execution_count": null,
      "outputs": [
        {
          "output_type": "stream",
          "name": "stderr",
          "text": [
            "ERROR:root:File not found.\n"
          ]
        }
      ]
    }
  ]
}